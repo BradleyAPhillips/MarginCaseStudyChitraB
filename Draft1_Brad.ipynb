{
  "cells": [
    {
      "cell_type": "markdown",
      "metadata": {
        "id": "hMciwKb8VUf_"
      },
      "source": [
        "### ***Portfolio Change Report***"
      ]
    },
    {
      "cell_type": "markdown",
      "metadata": {
        "id": "dTyN4gKfU0ju"
      },
      "source": [
        "**1.Importing Required packages**"
      ]
    },
    {
      "cell_type": "code",
      "execution_count": null,
      "metadata": {
        "id": "AhqZeI-pTdCE"
      },
      "outputs": [],
      "source": [
        "import os\n",
        "import pandas as pd\n",
        "import matplotlib.pyplot as plt\n"
      ]
    },
    {
      "cell_type": "code",
      "execution_count": null,
      "metadata": {
        "id": "S_7_TkChVSuM"
      },
      "outputs": [],
      "source": [
        "df_day1=pd.read_csv(\"Client_Margin_Report_WithClass_Task/Client_Margin_Report_WithClass_TaskDay1.csv\") \n",
        "df_day2=pd.read_csv(\"Client_Margin_Report_WithClass_Task/Client_Margin_Report_WithClass_TaskDay2.csv\" ) "
      ]
    },
    {
      "cell_type": "code",
      "execution_count": null,
      "metadata": {
        "id": "zTTtej3uYzFh"
      },
      "outputs": [],
      "source": [
        "##Cleaning data so that we can use to according to our purpose.##\n",
        "df_day1= df_day1.dropna(axis=1 , how='all')\n",
        "df_day2= df_day2.dropna(axis=1 , how='all')\n",
        "df_day1= df_day1.dropna(how='all')\n",
        "df_day2= df_day2.dropna(how='all')\n",
        "\n",
        "df_day1 = pd.DataFrame(df_day1.values[1:], columns=df_day1.iloc[0])\n",
        "df_day2 = pd.DataFrame(df_day2.values[1:], columns=df_day2.iloc[0])\n",
        "\n",
        "df_day1 = df_day1.replace(',','', regex=True)\n",
        "df_day2 = df_day2.replace(',','', regex=True)\n",
        "\n",
        "c = ['Quantity','Unit Price\\n(Local)\\n' , 'Value \\n(Local)' , 'Exposure \\n(Local)' , 'FX Rate' ,'Exposure \\n(USD)' , 'Requirement \\n(USD)' , '%Req']\n",
        "df_day1[c] = df_day1[c].apply(pd.to_numeric)\n",
        "\n",
        "df_day2[c] = df_day2[c].apply(pd.to_numeric)\n",
        "\n"
      ]
    },
    {
      "cell_type": "code",
      "execution_count": null,
      "metadata": {
        "colab": {
          "base_uri": "https://localhost:8080/",
          "height": 1000
        },
        "id": "wGyo4dnlSaLA",
        "outputId": "8d5eaa7d-b40c-4639-c3e9-d5c0fcb2f85d"
      },
      "outputs": [],
      "source": [
        "### Lets have a look at our data stored in the DataFrame df_day1 for day1 and df_day2 for day 2\n",
        "\n",
        "df_day1"
      ]
    },
    {
      "cell_type": "code",
      "execution_count": null,
      "metadata": {
        "colab": {
          "base_uri": "https://localhost:8080/",
          "height": 1000
        },
        "id": "yfX-rDKOYEGl",
        "outputId": "9b080f51-334a-4211-e28d-20e2aba7dcfa"
      },
      "outputs": [],
      "source": [
        "df_day2"
      ]
    },
    {
      "cell_type": "markdown",
      "metadata": {
        "id": "8qZLoatHXb_Q"
      },
      "source": [
        "Now that we have both the datasets i.e Day1 data in df_day1 and Day2 data in df_day2 , we further proceed to analyse it."
      ]
    },
    {
      "cell_type": "code",
      "execution_count": null,
      "metadata": {
        "colab": {
          "base_uri": "https://localhost:8080/"
        },
        "id": "JEl071CiJ0Ku",
        "outputId": "f12757a8-e9fc-4cdb-814e-3e92958b4feb"
      },
      "outputs": [],
      "source": [
        "### The Instrument present in Day1 and not present in Day2 means the Client may have opted out.\n",
        "A = set(df_day1['Code'])-set(df_day2['Code'])\n",
        "print('Below Clients left after Day 1')\n",
        "print(df_day1.loc[df_day1['Code'].isin(A)]['Instrument'])"
      ]
    },
    {
      "cell_type": "code",
      "execution_count": null,
      "metadata": {
        "colab": {
          "base_uri": "https://localhost:8080/"
        },
        "id": "p1kzPjs_KXwv",
        "outputId": "f08ecb3c-bb12-46f4-dc7f-10e003dc7f27"
      },
      "outputs": [],
      "source": [
        "### The Instrument present in Day2 and not present in Day1 means the Client are newly added.\n",
        "B= set(df_day2['Code'])-set(df_day1['Code'])\n",
        "print('Below Clients joined after Day1')\n",
        "print(df_day2.loc[df_day2['Code'].isin(B)]['Instrument'])"
      ]
    },
    {
      "cell_type": "code",
      "execution_count": null,
      "metadata": {
        "colab": {
          "base_uri": "https://localhost:8080/",
          "height": 1000
        },
        "id": "g148ezF-bCKw",
        "outputId": "be50065c-d1b3-4128-b4f2-bd5390259ab9"
      },
      "outputs": [],
      "source": [
        "### Now lets join both the dataframes in one in order to find differences and changes in the data from day1 to day2.\n",
        "df1=df_day1[['Code' , 'Position Type','Quantity', 'Unit Price\\n(Local)\\n' , 'Value \\n(Local)' , 'Exposure \\n(Local)' , 'Price Ccy', 'FX Rate' ,'Instrument Class','Exposure \\n(USD)' , 'Requirement \\n(USD)' , '%Req']]\n",
        "df2=df_day2[['Code' , 'Position Type', 'Quantity' , 'Unit Price\\n(Local)\\n' , 'Value \\n(Local)' , 'Exposure \\n(Local)' ,'Price Ccy', 'FX Rate' ,'Instrument Class','Exposure \\n(USD)' , 'Requirement \\n(USD)' , '%Req']]\n",
        "df1.columns = ['Code', 'Position Type1', 'Quantity1', 'Unit Price1(Local)\\n' , 'Value1(Local)' , 'Exposure1(Local)' , 'Currency1','FX Rate1' ,'Instrument Class1','Exposure1(USD)' , 'Requirement1(USD)1' , '%Req1']\n",
        "df2.columns = ['Code', 'Position Type2', 'Quantity2', 'Unit Price2(Local)\\n' , 'Value2(Local)' , 'Exposure2(Local)' ,'Currency2' ,'FX Rate2' ,'Instrument Class2','Exposure2(USD)' , 'Requirement2(USD)2' , '%Req2']\n",
        "mergedRes = pd.merge(df1, df2, on ='Code', how =\"outer\")\n",
        "\n",
        "###Below is the merged Dataframe\n",
        "mergedRes.set_index('Code')"
      ]
    },
    {
      "cell_type": "markdown",
      "metadata": {
        "id": "JAhvBN0gQoWi"
      },
      "source": [
        "Below we analyse the Quantity corresponding to each Instrument."
      ]
    },
    {
      "cell_type": "code",
      "execution_count": null,
      "metadata": {
        "colab": {
          "base_uri": "https://localhost:8080/",
          "height": 1000
        },
        "id": "xY2KSVA--4AL",
        "outputId": "6f4856df-5ab7-4f62-b737-b719d001a52a"
      },
      "outputs": [],
      "source": [
        "### Below we analyse the Quantity corresponding to each Instrument.\n",
        "print(mergedRes[['Code','Quantity1','Quantity2']])\n",
        "ax = mergedRes[['Quantity1','Quantity2']].plot(kind='bar', title =\"Quantity Comparison\", figsize=(15, 10), legend=True, fontsize=12)\n",
        "ax.set_xlabel('Code', fontsize=12)\n",
        "ax.set_ylabel(\"Quantity\", fontsize=12)\n",
        "plt.show()"
      ]
    },
    {
      "cell_type": "markdown",
      "metadata": {
        "id": "0hUF0GVwbbeo"
      },
      "source": [
        "\n",
        "*   We can see that 2 new Instruments have joined on Day2 **PSH NA  and EUR** and **820 HK** left us after Day1. Also we can see that **VSL LN** has two entries in Day1 that means they have changed their proposal in day1 or they have 2 proposals in Day1.\n",
        "\n",
        "*   Some of the Instruments have negative quantity.\n",
        "*   Only one instrument have changed its quantity from day1 to day2 i.e **USD**\n",
        "\n"
      ]
    },
    {
      "cell_type": "code",
      "execution_count": null,
      "metadata": {
        "colab": {
          "base_uri": "https://localhost:8080/",
          "height": 1000
        },
        "id": "dfQh6OeB2hT4",
        "outputId": "8f7ace2c-98e5-4ca2-bd23-8a5d45535610"
      },
      "outputs": [],
      "source": [
        "### Below we analyse the Unit Price (Local) corresponding to each Instrument.\n",
        "print(mergedRes[['Code','Unit Price1(Local)\\n','Unit Price2(Local)\\n']])\n",
        "ax = mergedRes[['Unit Price1(Local)\\n','Unit Price2(Local)\\n']].plot(kind='bar', title =\"UnitPrice Comparison\", figsize=(15, 10), legend=True, fontsize=12)\n",
        "ax.set_xlabel('Code', fontsize=12)\n",
        "ax.set_ylabel(\"Quantity\", fontsize=12)\n",
        "plt.show()"
      ]
    },
    {
      "cell_type": "markdown",
      "metadata": {
        "id": "aS3ZR4CqdusJ"
      },
      "source": [
        "*   There are minor changes in Unit Price (Locally) of each instrument.\n",
        "*   Only  **NEW AU** has significant change from 0.2000 to 0.0680.\n",
        "*   None of the Instrument have negative Unit Price(local).\n",
        "\n"
      ]
    },
    {
      "cell_type": "code",
      "execution_count": null,
      "metadata": {
        "colab": {
          "base_uri": "https://localhost:8080/",
          "height": 1000
        },
        "id": "pokkbMe6CSU6",
        "outputId": "16ebabb6-3787-49c2-dfd9-e4d69707caf9"
      },
      "outputs": [],
      "source": [
        "### Below we analyse the Value (Local) corresponding to each Instrument.\n",
        "print(mergedRes[['Code','Value1(Local)','Value2(Local)']])\n",
        "ax = mergedRes[['Value1(Local)','Value2(Local)']].plot(kind='bar', title =\"value Comparison\", figsize=(15, 10), legend=True, fontsize=12)\n",
        "ax.set_xlabel('Code', fontsize=12)\n",
        "ax.set_ylabel(\"Quantity\", fontsize=12)\n",
        "plt.show()"
      ]
    },
    {
      "cell_type": "markdown",
      "metadata": {
        "id": "vxCVDjg5fM9O"
      },
      "source": [
        "*   There are minor changes in Total value (Locally) of each instrument and this change is becuase of change in the Unit Price (Local) of each Instrument.\n",
        "*   Only  **NEW AU** has significant change from 1536945.0 to 522561.0.\n",
        "This is because the Unit Price (Local) has changed from 0.2000 to 0.0680, whereas the Quantity required is same i.e 7684727.0 as day1 and day2 data.\n",
        "* **USD** has significant change in Total Value(from 2947793.0 to 3675403.0)because it has changed its Quantity(from 2947793.0 to 3675403.0) from day1 to day2. Whereas its Unit price is same as 1 in both days.             \n",
        "*  The total value is negative only for the Instruments having negative Quantity demands."
      ]
    },
    {
      "cell_type": "code",
      "execution_count": null,
      "metadata": {
        "colab": {
          "base_uri": "https://localhost:8080/",
          "height": 1000
        },
        "id": "vLavHIaEC0T7",
        "outputId": "12b8f570-bd4e-49ab-e3e3-2681bde02cb5"
      },
      "outputs": [],
      "source": [
        "### Below we analyse the Exposure(Local) corresponding to each Instrument.\n",
        "print(mergedRes[['Code','Exposure1(Local)','Exposure2(Local)']])\n",
        "ax = mergedRes[['Exposure1(Local)','Exposure2(Local)']].plot(kind='bar', title =\"Exposure Comparison\", figsize=(15, 10), legend=True, fontsize=12)\n",
        "ax.set_xlabel('Code', fontsize=12)\n",
        "ax.set_ylabel(\"Quantity\", fontsize=12)\n",
        "plt.show()"
      ]
    },
    {
      "cell_type": "markdown",
      "metadata": {
        "id": "efk1QETZiurf"
      },
      "source": [
        "*   There are minor changes in Exposure(Locally) of each Instrument and this change is becuase of change in the Unit Price (Local) of each Instrument.\n",
        "*   Only  **NEW AU** has significant change from 1536945.0 to 522561.0.\n",
        "This is because the Unit Price (Local) has changed from 0.2000 to 0.0680, whereas the Quantity required is same i.e 7684727.0 as day1 and day2 data.\n",
        "* **USD** has significant change in Exposure(from 2947793.0 to 3675403.0)because it has changed its Quantity(from 2947793.0 to 3675403.0) from day1 to day2. Whereas its Unit price is same as 1 in both days.             \n",
        "*  The Exposure(Local) is negative only for the Instruments having negative Quantity demands.\n",
        "* The Exposure(Local) is directly linked to the Total value(Local)."
      ]
    },
    {
      "cell_type": "code",
      "execution_count": null,
      "metadata": {
        "colab": {
          "base_uri": "https://localhost:8080/",
          "height": 1000
        },
        "id": "cbeVvcyxNQsc",
        "outputId": "1ca8ecf6-9124-41ad-bda6-0b66760fcbb8"
      },
      "outputs": [],
      "source": [
        "### Below we analyse the FX Rate corresponding to each Instrument.\n",
        "print(mergedRes[['Code','FX Rate1','FX Rate2']])\n",
        "ax = mergedRes[['FX Rate1','FX Rate2']].plot(kind='bar', title =\"FXRate Comparison\", figsize=(15, 10), legend=True, fontsize=12)\n",
        "ax.set_xlabel('Code', fontsize=12)\n",
        "ax.set_ylabel(\"Quantity\", fontsize=12)\n",
        "plt.show()"
      ]
    },
    {
      "cell_type": "markdown",
      "metadata": {
        "id": "fZ36awHH5HzX"
      },
      "source": [
        "*   There are minor changes in FX Rate of each Instrument from day1 to day2, and this is because of Currency.\n",
        "\n",
        "* The FXRate is directly linked to Currency it is dealing with."
      ]
    },
    {
      "cell_type": "code",
      "execution_count": null,
      "metadata": {
        "colab": {
          "base_uri": "https://localhost:8080/",
          "height": 1000
        },
        "id": "ym8MQFtbN7ec",
        "outputId": "8501513f-afc7-4b30-c707-57d0ce4fb8c8"
      },
      "outputs": [],
      "source": [
        "### Below we analyse the Exposure(USD) corresponding to each Instrument.\n",
        "print(mergedRes[['Code','Exposure1(USD)','Exposure2(USD)']])\n",
        "ax = mergedRes[['Exposure1(USD)','Exposure2(USD)']].plot(kind='bar', title =\"Exposure(USD) Comparison\", figsize=(15, 10), legend=True, fontsize=12)\n",
        "ax.set_xlabel('Code', fontsize=12)\n",
        "ax.set_ylabel(\"Quantity\", fontsize=12)\n",
        "plt.show()"
      ]
    },
    {
      "cell_type": "markdown",
      "metadata": {
        "id": "u6mXDzRO6AV7"
      },
      "source": [
        "*   There are minor changes in Exposure(USD) of each Instrument from day1 to day2.\n",
        "\n",
        "* The Exposure(USD) is directly linked to Exposure(local) and FxRate  of the Instrument it is dealing with."
      ]
    },
    {
      "cell_type": "code",
      "execution_count": null,
      "metadata": {
        "colab": {
          "base_uri": "https://localhost:8080/",
          "height": 1000
        },
        "id": "VLIS2MJdOic6",
        "outputId": "7057a4f5-7038-46cb-c86c-9a01949e1afd"
      },
      "outputs": [],
      "source": [
        "### Below we analyse the Requirement(USD) corresponding to each Instrument.\n",
        "print(mergedRes[['Code','Requirement1(USD)1','Requirement2(USD)2']])\n",
        "ax = mergedRes[['Requirement1(USD)1','Requirement2(USD)2']].plot(kind='bar', title =\"Exposure(USD) Comparison\", figsize=(15, 10), legend=True, fontsize=12)\n",
        "ax.set_xlabel('Code', fontsize=12)\n",
        "ax.set_ylabel(\"Quantity\", fontsize=12)\n",
        "plt.show()"
      ]
    },
    {
      "cell_type": "markdown",
      "metadata": {
        "id": "u_heC2iK727K"
      },
      "source": [
        "*   There are minor changes in Requirement(USD) of each Instrument from day1 to day2.\n",
        "\n",
        "* Requirement(USD) is never negative for any instrument.\n"
      ]
    },
    {
      "cell_type": "code",
      "execution_count": null,
      "metadata": {
        "colab": {
          "base_uri": "https://localhost:8080/",
          "height": 1000
        },
        "id": "LBMPPHKqwubZ",
        "outputId": "e59d6f29-f44d-452d-a0ec-f43196c01956"
      },
      "outputs": [],
      "source": [
        "### Below we analyse the Requirement percentage(USD) corresponding to each Instrument.\n",
        "print(mergedRes[['Code','%Req1','%Req2']])\n",
        "ax = mergedRes[['%Req1','%Req2']].plot(kind='bar', title =\"Exposure(USD) Comparison\", figsize=(15, 10), legend=True, fontsize=12)\n",
        "ax.set_xlabel('Code', fontsize=12)\n",
        "ax.set_ylabel(\"Quantity\", fontsize=12)\n",
        "plt.show()"
      ]
    },
    {
      "cell_type": "markdown",
      "metadata": {
        "id": "o94Tob4M_GNk"
      },
      "source": [
        "*   There are minor changes in Requirement percentage of each Instrument from day1 to day2.\n",
        "\n",
        "* The Requirement percentage is directly linked to Requirement(USD) and inversely proportional to the Exposure(USD) of the Instrument it is dealing with."
      ]
    },
    {
      "cell_type": "markdown",
      "metadata": {
        "id": "RK3YbOFGADnQ"
      },
      "source": [
        "**Now let us try to group and summarise the differences(in day1 and day2) by Instrument Class, Currency and Position Type.**"
      ]
    },
    {
      "cell_type": "markdown",
      "metadata": {
        "id": "0k_Ipe-iATOS"
      },
      "source": [
        "First analyse the distribution of Quantity for Day1"
      ]
    },
    {
      "cell_type": "code",
      "execution_count": null,
      "metadata": {
        "colab": {
          "base_uri": "https://localhost:8080/"
        },
        "id": "Gx6-6olYwyCO",
        "outputId": "3ec49c18-52d1-48fb-8eb9-6fb0ca6f4d4a"
      },
      "outputs": [],
      "source": [
        "mergedRes[\"Quantity1\"].describe()\n"
      ]
    },
    {
      "cell_type": "markdown",
      "metadata": {
        "id": "zSTmSEQzAhIq"
      },
      "source": [
        "Next lets analyse the distribution of Quantity for Day2"
      ]
    },
    {
      "cell_type": "code",
      "execution_count": null,
      "metadata": {
        "colab": {
          "base_uri": "https://localhost:8080/"
        },
        "id": "akJkPT7c6OME",
        "outputId": "a499f900-3c3f-45a2-a710-83c3daa37d67"
      },
      "outputs": [],
      "source": [
        "mergedRes[\"Quantity2\"].describe()"
      ]
    },
    {
      "cell_type": "markdown",
      "metadata": {
        "id": "r-VIolS0L1tb"
      },
      "source": [
        "Below code shows the transition of Instrument class from day1 to day2."
      ]
    },
    {
      "cell_type": "code",
      "execution_count": null,
      "metadata": {
        "colab": {
          "base_uri": "https://localhost:8080/"
        },
        "id": "wCfLKF1z7_mO",
        "outputId": "0e78759e-c012-4cd4-a877-506785b1fcdd"
      },
      "outputs": [],
      "source": [
        "print(mergedRes[['Code', 'Instrument Class1','Instrument Class2']])"
      ]
    },
    {
      "cell_type": "markdown",
      "metadata": {
        "id": "cMwFyRKEJj23"
      },
      "source": [
        "The Instrument class of all the instruments does not change from day1 to day2.\n",
        "\n",
        "Below describes the statistical measures of Quantity among groups as per Instrument class."
      ]
    },
    {
      "cell_type": "code",
      "execution_count": null,
      "metadata": {
        "colab": {
          "base_uri": "https://localhost:8080/"
        },
        "id": "3uwT4MMkIOwR",
        "outputId": "ea88175d-44c8-4b4c-c45b-b6eda2f23f41"
      },
      "outputs": [],
      "source": [
        "print(mergedRes.groupby(\"Instrument Class1\")['Quantity1'].describe())\n",
        "print(mergedRes.groupby(\"Instrument Class2\")['Quantity2'].describe())"
      ]
    },
    {
      "cell_type": "markdown",
      "metadata": {
        "id": "e-yh-IbrK_7V"
      },
      "source": [
        "Below describes the statistical measures of Quantity among groups as per Instrument class."
      ]
    },
    {
      "cell_type": "code",
      "execution_count": null,
      "metadata": {
        "colab": {
          "base_uri": "https://localhost:8080/"
        },
        "id": "uGGAWuAILCqI",
        "outputId": "420c9e45-d8a0-4cd0-f4a8-1869bccae6e4"
      },
      "outputs": [],
      "source": [
        "print(mergedRes.groupby(\"Instrument Class1\")['%Req1'].describe())\n",
        "print(mergedRes.groupby(\"Instrument Class2\")['%Req2'].describe())"
      ]
    },
    {
      "cell_type": "markdown",
      "metadata": {
        "id": "QXmdU_KrLcRz"
      },
      "source": [
        "Below describes the count of Instrument Class distributed over the Instruments for day1."
      ]
    },
    {
      "cell_type": "code",
      "execution_count": null,
      "metadata": {
        "colab": {
          "base_uri": "https://localhost:8080/",
          "height": 212
        },
        "id": "jfn2fv506bKs",
        "outputId": "2e8c05e3-647c-462e-90a0-91b4a3da4c84"
      },
      "outputs": [],
      "source": [
        "df=mergedRes.groupby(\"Instrument Class1\")['Quantity1'].count()\n",
        "df.plot.pie(subplots=True,figsize=(8, 3)) "
      ]
    },
    {
      "cell_type": "markdown",
      "metadata": {
        "id": "fn7PV1hRLn9W"
      },
      "source": [
        "Below describes the count of Instrument Class distributed over the Instruments for day2."
      ]
    },
    {
      "cell_type": "code",
      "execution_count": null,
      "metadata": {
        "colab": {
          "base_uri": "https://localhost:8080/",
          "height": 212
        },
        "id": "S31O_LpeJaDz",
        "outputId": "9a63a4e4-8937-4593-9982-27fe57abb7a0"
      },
      "outputs": [],
      "source": [
        "df=mergedRes.groupby(\"Instrument Class2\")['Quantity2'].count()\n",
        "df.plot.pie(subplots=True,figsize=(8, 3))   "
      ]
    },
    {
      "cell_type": "markdown",
      "metadata": {
        "id": "z_ClPhk7LwLq"
      },
      "source": [
        "Below code shows the transition of Position type from day1 to day2."
      ]
    },
    {
      "cell_type": "code",
      "execution_count": null,
      "metadata": {
        "colab": {
          "base_uri": "https://localhost:8080/"
        },
        "id": "JDTtC52iDswT",
        "outputId": "b0cb9013-3d3b-47fd-ad6b-1be046917cd4"
      },
      "outputs": [],
      "source": [
        "print(mergedRes[['Code', 'Position Type1','Position Type2']])"
      ]
    },
    {
      "cell_type": "markdown",
      "metadata": {
        "id": "x-g5caWcMFp-"
      },
      "source": [
        "\n",
        "\n",
        "*   We can see that most of the Intruments retain their Position type from day1 to day2. Except for some who left as client (820 HK), or who joined as new client(PSH NA , EUR) or some who changed thier proposal in the same day(VSL LN).\n",
        "\n",
        "\n"
      ]
    },
    {
      "cell_type": "markdown",
      "metadata": {
        "id": "Lxb43-xgNqiq"
      },
      "source": [
        "Below describes the statistical measures of Quantity among groups as per Position Type."
      ]
    },
    {
      "cell_type": "code",
      "execution_count": null,
      "metadata": {
        "colab": {
          "base_uri": "https://localhost:8080/"
        },
        "id": "pK7leFkeIhiG",
        "outputId": "7a3ab69a-3bf9-44cd-e425-3023ceb45ccf"
      },
      "outputs": [],
      "source": [
        "print(mergedRes.groupby(\"Position Type1\")['Quantity1'].describe())\n",
        "print(mergedRes.groupby(\"Position Type2\")['Quantity2'].describe())"
      ]
    },
    {
      "cell_type": "markdown",
      "metadata": {
        "id": "hlZZbLvQN1Dp"
      },
      "source": [
        "Below describes the count of Position Type distributed over the Instruments for day1."
      ]
    },
    {
      "cell_type": "code",
      "execution_count": null,
      "metadata": {
        "colab": {
          "base_uri": "https://localhost:8080/",
          "height": 212
        },
        "id": "usTxwORuD2eG",
        "outputId": "414c558d-ea4c-4caf-da76-51be49e0dd84"
      },
      "outputs": [],
      "source": [
        "df=mergedRes.groupby(\"Position Type1\")['Quantity1'].count()\n",
        "df.plot.pie(subplots=True,figsize=(8, 3)) "
      ]
    },
    {
      "cell_type": "markdown",
      "metadata": {
        "id": "_WqgEssUN2DN"
      },
      "source": [
        "Below describes the count of Position Type distributed over the Instruments for day2."
      ]
    },
    {
      "cell_type": "code",
      "execution_count": null,
      "metadata": {
        "colab": {
          "base_uri": "https://localhost:8080/",
          "height": 212
        },
        "id": "zR3r8ohIJ_xk",
        "outputId": "4632444e-eb7a-433c-89c8-b91ab4ebe011"
      },
      "outputs": [],
      "source": [
        "df=mergedRes.groupby(\"Position Type2\")['Quantity2'].count()\n",
        "df.plot.pie(subplots=True,figsize=(8, 3)) "
      ]
    },
    {
      "cell_type": "markdown",
      "metadata": {
        "id": "gSUda9KYOiJI"
      },
      "source": [
        "Below code shows the transition of Currency from day1 to day2."
      ]
    },
    {
      "cell_type": "code",
      "execution_count": null,
      "metadata": {
        "colab": {
          "base_uri": "https://localhost:8080/"
        },
        "id": "HGzJ41HhKJ56",
        "outputId": "b6b3c3a1-418b-48f5-f0ff-45ea5216a908"
      },
      "outputs": [],
      "source": [
        "print(mergedRes[['Code', 'Currency1','Currency2']])"
      ]
    },
    {
      "cell_type": "markdown",
      "metadata": {
        "id": "dc0k-SLOO3W-"
      },
      "source": [
        "We can see that most of the Intruments retain their Currency Type from day1 to day2. "
      ]
    },
    {
      "cell_type": "markdown",
      "metadata": {
        "id": "rQl0XYnTPBAI"
      },
      "source": [
        "Below describes the statistical measures of Quantity among groups as per Currency."
      ]
    },
    {
      "cell_type": "code",
      "execution_count": null,
      "metadata": {
        "colab": {
          "base_uri": "https://localhost:8080/"
        },
        "id": "LdcFBAxPLSLY",
        "outputId": "a81d09db-99df-497c-cec3-cc27eacbf1f9"
      },
      "outputs": [],
      "source": [
        "print(mergedRes.groupby(\"Currency1\")['Quantity1'].describe())\n",
        "print(mergedRes.groupby(\"Currency2\")['Quantity2'].describe())"
      ]
    },
    {
      "cell_type": "markdown",
      "metadata": {
        "id": "x3rwGYodPhve"
      },
      "source": [
        "Below describes the count of Currency distributed over the Instruments for day1."
      ]
    },
    {
      "cell_type": "code",
      "execution_count": null,
      "metadata": {
        "colab": {
          "base_uri": "https://localhost:8080/",
          "height": 212
        },
        "id": "biFrAjCmLhwf",
        "outputId": "e2368388-6961-434b-8b78-5012f19bb725"
      },
      "outputs": [],
      "source": [
        "df=mergedRes.groupby(\"Currency1\")['Quantity1'].count()\n",
        "df.plot.pie(subplots=True,figsize=(8, 3)) "
      ]
    },
    {
      "cell_type": "markdown",
      "metadata": {
        "id": "eVzJ2rJLPoOG"
      },
      "source": [
        "Below describes the count of Currency distributed over the Instruments for day2."
      ]
    },
    {
      "cell_type": "code",
      "execution_count": null,
      "metadata": {
        "colab": {
          "base_uri": "https://localhost:8080/",
          "height": 212
        },
        "id": "ztTQe_BqLnxS",
        "outputId": "d3433d48-db84-40e5-ba6d-b3c1c6a01add"
      },
      "outputs": [],
      "source": [
        "df=mergedRes.groupby(\"Currency2\")['Quantity2'].count()\n",
        "df.plot.pie(subplots=True,figsize=(8, 3)) "
      ]
    }
  ],
  "metadata": {
    "accelerator": "GPU",
    "colab": {
      "provenance": []
    },
    "gpuClass": "standard",
    "kernelspec": {
      "display_name": "Python 3",
      "language": "python",
      "name": "python3"
    },
    "language_info": {
      "codemirror_mode": {
        "name": "ipython",
        "version": 3
      },
      "file_extension": ".py",
      "mimetype": "text/x-python",
      "name": "python",
      "nbconvert_exporter": "python",
      "pygments_lexer": "ipython3",
      "version": "3.10.7"
    },
    "orig_nbformat": 4,
    "vscode": {
      "interpreter": {
        "hash": "26de051ba29f2982a8de78e945f0abaf191376122a1563185a90213a26c5da77"
      }
    }
  },
  "nbformat": 4,
  "nbformat_minor": 0
}
